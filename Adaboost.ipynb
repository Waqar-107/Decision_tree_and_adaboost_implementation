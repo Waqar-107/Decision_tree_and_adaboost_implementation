{
  "nbformat": 4,
  "nbformat_minor": 0,
  "metadata": {
    "colab": {
      "name": "Adaboost.ipynb",
      "provenance": [],
      "collapsed_sections": [],
      "authorship_tag": "ABX9TyM63heTnDree3+QKtq4urrQ",
      "include_colab_link": true
    },
    "kernelspec": {
      "name": "python3",
      "display_name": "Python 3"
    }
  },
  "cells": [
    {
      "cell_type": "markdown",
      "metadata": {
        "id": "view-in-github",
        "colab_type": "text"
      },
      "source": [
        "<a href=\"https://colab.research.google.com/github/afsara-ben/Decision_tree_and_adaboost_implementation/blob/master/Adaboost.ipynb\" target=\"_parent\"><img src=\"https://colab.research.google.com/assets/colab-badge.svg\" alt=\"Open In Colab\"/></a>"
      ]
    },
    {
      "cell_type": "code",
      "metadata": {
        "id": "3gYBLuH2sfoq",
        "colab_type": "code",
        "colab": {}
      },
      "source": [
        "import pandas as pd\n",
        "import numpy as np\n",
        "from pprint import pprint\n",
        "import io\n",
        "from sklearn import preprocessing\n",
        "from collections import Counter\n",
        "import random\n",
        "from google.colab import drive\n",
        "EPSILON = 0.0000000000001"
      ],
      "execution_count": 0,
      "outputs": []
    },
    {
      "cell_type": "code",
      "metadata": {
        "id": "MnIsXZz84s8q",
        "colab_type": "code",
        "outputId": "3ca32101-64b8-4de7-aa80-022a6956c4df",
        "colab": {
          "base_uri": "https://localhost:8080/",
          "height": 34
        }
      },
      "source": [
        "drive.mount('/content/gdrive')\n",
        "root_path = 'gdrive/My Drive/Colab Notebooks/Adaboost/Dataset/'"
      ],
      "execution_count": 2,
      "outputs": [
        {
          "output_type": "stream",
          "text": [
            "Drive already mounted at /content/gdrive; to attempt to forcibly remount, call drive.mount(\"/content/gdrive\", force_remount=True).\n"
          ],
          "name": "stdout"
        }
      ]
    },
    {
      "cell_type": "markdown",
      "metadata": {
        "id": "s3-iEh6CRwMe",
        "colab_type": "text"
      },
      "source": [
        "#Load data"
      ]
    },
    {
      "cell_type": "code",
      "metadata": {
        "id": "MLjY0bHazZFB",
        "colab_type": "code",
        "colab": {}
      },
      "source": [
        "def load_telco_data():\n",
        "  col_names = ['client_id','Gender', 'seniority', 'partner', 'dependents', 'tenure', 'phoneservice', 'multiple_lines', 'internet_service', 'online_security', \n",
        "             'online_backup', 'device_protection', 'tech_support', 'streaming_tv', 'streaming_movies', 'contract', 'paperless_billing', 'payment_method',\n",
        "             'monthly_charges', 'Total_charges', 'label']\n",
        "\n",
        "  df = pd.read_csv(root_path + 'Telco_test.csv',header = 0, names=col_names, skiprows=0, skipinitialspace=True, usecols = lambda column : column in \n",
        "    [\"Gender\", \"seniority\", \"partner\", \"dependents\", \"tenure\", \"phoneservice\", \"multiple_lines\", \"internet_service\", \"online_security\", \n",
        "                 \"online_backup\",\"device_protection\", \"tech_support\", \"streaming_tv\", \"streaming_movies\", \"contract\", \"paperless_billing\", \n",
        "                \"payment_method\",\"monthly_charges\", \"Total_charges\", \"label\"])\n",
        "\n",
        "\n",
        "  col_names.remove(\"client_id\")\n",
        "  col_names.remove(\"label\")\n",
        "  target_col = \"label\"\n",
        "\n",
        "  label_encoder = preprocessing.LabelEncoder()\n",
        "  df[target_col] = label_encoder.fit_transform(df['label'])\n",
        "\n",
        "  return df,col_names\n",
        "\n"
      ],
      "execution_count": 0,
      "outputs": []
    },
    {
      "cell_type": "code",
      "metadata": {
        "id": "fWctOjseMpsk",
        "colab_type": "code",
        "colab": {}
      },
      "source": [
        "def load_animal_data():\n",
        "  col_names=[\"toothed\",\"breathes\",\"legs\",\"label\"]\n",
        "\n",
        "  df = pd.DataFrame({\"toothed\":[\"True\",\"True\",\"True\",\"False\",\"True\",\"True\",\"True\",\"True\",\"True\",\"False\"],\n",
        "\n",
        "\n",
        "  \"breathes\":[\"True\",\"True\",\"True\",\"True\",\"True\",\"True\",\"False\",\"True\",\"True\",\"True\"],\n",
        "\n",
        "  \"legs\":[\"True\",\"True\",\"False\",\"True\",\"True\",\"True\",\"False\",\"False\",\"True\",\"True\"],\n",
        "  \"label\":[\"Mammal\",\"Mammal\",\"Reptile\",\"Mammal\",\"Mammal\",\"Mammal\",\"Reptile\",\"Reptile\",\"Mammal\",\"Reptile\"]},\n",
        "  columns = col_names)\n",
        "\n",
        "  features = df[[\"toothed\",\"breathes\",\"legs\"]]\n",
        "  target = df[\"label\"]\n",
        "\n",
        "  col_names.remove(\"label\")\n",
        "  target_col = \"label\"\n",
        "\n",
        "  label_encoder = preprocessing.LabelEncoder()\n",
        "  df[target_col] = label_encoder.fit_transform(df['label'])\n",
        "  \n",
        "  return df, col_names"
      ],
      "execution_count": 0,
      "outputs": []
    },
    {
      "cell_type": "code",
      "metadata": {
        "id": "kqLuRApzsnjp",
        "colab_type": "code",
        "colab": {}
      },
      "source": [
        "#df, col_names = load_animal_data()\n",
        "df, col_names = load_telco_data()\n"
      ],
      "execution_count": 0,
      "outputs": []
    },
    {
      "cell_type": "code",
      "metadata": {
        "id": "zYhLAofF0QZ3",
        "colab_type": "code",
        "colab": {
          "base_uri": "https://localhost:8080/",
          "height": 292
        },
        "outputId": "8551126e-197d-46b1-bcde-4430a2cc975a"
      },
      "source": [
        "df.head()"
      ],
      "execution_count": 6,
      "outputs": [
        {
          "output_type": "execute_result",
          "data": {
            "text/html": [
              "<div>\n",
              "<style scoped>\n",
              "    .dataframe tbody tr th:only-of-type {\n",
              "        vertical-align: middle;\n",
              "    }\n",
              "\n",
              "    .dataframe tbody tr th {\n",
              "        vertical-align: top;\n",
              "    }\n",
              "\n",
              "    .dataframe thead th {\n",
              "        text-align: right;\n",
              "    }\n",
              "</style>\n",
              "<table border=\"1\" class=\"dataframe\">\n",
              "  <thead>\n",
              "    <tr style=\"text-align: right;\">\n",
              "      <th></th>\n",
              "      <th>Gender</th>\n",
              "      <th>seniority</th>\n",
              "      <th>partner</th>\n",
              "      <th>dependents</th>\n",
              "      <th>tenure</th>\n",
              "      <th>phoneservice</th>\n",
              "      <th>multiple_lines</th>\n",
              "      <th>internet_service</th>\n",
              "      <th>online_security</th>\n",
              "      <th>online_backup</th>\n",
              "      <th>device_protection</th>\n",
              "      <th>tech_support</th>\n",
              "      <th>streaming_tv</th>\n",
              "      <th>streaming_movies</th>\n",
              "      <th>contract</th>\n",
              "      <th>paperless_billing</th>\n",
              "      <th>payment_method</th>\n",
              "      <th>monthly_charges</th>\n",
              "      <th>Total_charges</th>\n",
              "      <th>label</th>\n",
              "    </tr>\n",
              "  </thead>\n",
              "  <tbody>\n",
              "    <tr>\n",
              "      <th>0</th>\n",
              "      <td>Female</td>\n",
              "      <td>0</td>\n",
              "      <td>Yes</td>\n",
              "      <td>No</td>\n",
              "      <td>1</td>\n",
              "      <td>No</td>\n",
              "      <td>No phone service</td>\n",
              "      <td>DSL</td>\n",
              "      <td>No</td>\n",
              "      <td>Yes</td>\n",
              "      <td>No</td>\n",
              "      <td>No</td>\n",
              "      <td>No</td>\n",
              "      <td>No</td>\n",
              "      <td>Month-to-month</td>\n",
              "      <td>Yes</td>\n",
              "      <td>Electronic check</td>\n",
              "      <td>10.0</td>\n",
              "      <td>29.85</td>\n",
              "      <td>0</td>\n",
              "    </tr>\n",
              "    <tr>\n",
              "      <th>1</th>\n",
              "      <td>Male</td>\n",
              "      <td>0</td>\n",
              "      <td>No</td>\n",
              "      <td>No</td>\n",
              "      <td>34</td>\n",
              "      <td>Yes</td>\n",
              "      <td>No</td>\n",
              "      <td>DSL</td>\n",
              "      <td>Yes</td>\n",
              "      <td>No</td>\n",
              "      <td>Yes</td>\n",
              "      <td>No</td>\n",
              "      <td>No</td>\n",
              "      <td>No</td>\n",
              "      <td>One year</td>\n",
              "      <td>No</td>\n",
              "      <td>Mailed check</td>\n",
              "      <td>20.0</td>\n",
              "      <td>1889.50</td>\n",
              "      <td>0</td>\n",
              "    </tr>\n",
              "    <tr>\n",
              "      <th>2</th>\n",
              "      <td>Male</td>\n",
              "      <td>0</td>\n",
              "      <td>No</td>\n",
              "      <td>No</td>\n",
              "      <td>2</td>\n",
              "      <td>Yes</td>\n",
              "      <td>No</td>\n",
              "      <td>DSL</td>\n",
              "      <td>Yes</td>\n",
              "      <td>Yes</td>\n",
              "      <td>No</td>\n",
              "      <td>No</td>\n",
              "      <td>No</td>\n",
              "      <td>No</td>\n",
              "      <td>Month-to-month</td>\n",
              "      <td>Yes</td>\n",
              "      <td>Mailed check</td>\n",
              "      <td>30.0</td>\n",
              "      <td>108.15</td>\n",
              "      <td>1</td>\n",
              "    </tr>\n",
              "    <tr>\n",
              "      <th>3</th>\n",
              "      <td>Male</td>\n",
              "      <td>0</td>\n",
              "      <td>No</td>\n",
              "      <td>No</td>\n",
              "      <td>45</td>\n",
              "      <td>No</td>\n",
              "      <td>No phone service</td>\n",
              "      <td>DSL</td>\n",
              "      <td>Yes</td>\n",
              "      <td>No</td>\n",
              "      <td>Yes</td>\n",
              "      <td>Yes</td>\n",
              "      <td>No</td>\n",
              "      <td>No</td>\n",
              "      <td>One year</td>\n",
              "      <td>No</td>\n",
              "      <td>Bank transfer (automatic)</td>\n",
              "      <td>NaN</td>\n",
              "      <td>1840.75</td>\n",
              "      <td>0</td>\n",
              "    </tr>\n",
              "    <tr>\n",
              "      <th>4</th>\n",
              "      <td>Female</td>\n",
              "      <td>0</td>\n",
              "      <td>No</td>\n",
              "      <td>No</td>\n",
              "      <td>2</td>\n",
              "      <td>Yes</td>\n",
              "      <td>No</td>\n",
              "      <td>Fiber optic</td>\n",
              "      <td>No</td>\n",
              "      <td>No</td>\n",
              "      <td>No</td>\n",
              "      <td>No</td>\n",
              "      <td>No</td>\n",
              "      <td>No</td>\n",
              "      <td>Month-to-month</td>\n",
              "      <td>Yes</td>\n",
              "      <td>Electronic check</td>\n",
              "      <td>10.0</td>\n",
              "      <td>NaN</td>\n",
              "      <td>1</td>\n",
              "    </tr>\n",
              "  </tbody>\n",
              "</table>\n",
              "</div>"
            ],
            "text/plain": [
              "   Gender  seniority partner  ... monthly_charges  Total_charges label\n",
              "0  Female          0     Yes  ...            10.0          29.85     0\n",
              "1    Male          0      No  ...            20.0        1889.50     0\n",
              "2    Male          0      No  ...            30.0         108.15     1\n",
              "3    Male          0      No  ...             NaN        1840.75     0\n",
              "4  Female          0      No  ...            10.0            NaN     1\n",
              "\n",
              "[5 rows x 20 columns]"
            ]
          },
          "metadata": {
            "tags": []
          },
          "execution_count": 6
        }
      ]
    },
    {
      "cell_type": "code",
      "metadata": {
        "id": "oTcKtXU87mDM",
        "colab_type": "code",
        "colab": {
          "base_uri": "https://localhost:8080/",
          "height": 34
        },
        "outputId": "44013c93-fd62-4712-aba8-32102449421d"
      },
      "source": [
        "len(df)"
      ],
      "execution_count": 7,
      "outputs": [
        {
          "output_type": "execute_result",
          "data": {
            "text/plain": [
              "10"
            ]
          },
          "metadata": {
            "tags": []
          },
          "execution_count": 7
        }
      ]
    },
    {
      "cell_type": "code",
      "metadata": {
        "id": "viUqejteNwQh",
        "colab_type": "code",
        "colab": {
          "base_uri": "https://localhost:8080/",
          "height": 340
        },
        "outputId": "82f1b75e-2ee2-4f0e-bcea-cb262d8d94f3"
      },
      "source": [
        "col_names"
      ],
      "execution_count": 8,
      "outputs": [
        {
          "output_type": "execute_result",
          "data": {
            "text/plain": [
              "['Gender',\n",
              " 'seniority',\n",
              " 'partner',\n",
              " 'dependents',\n",
              " 'tenure',\n",
              " 'phoneservice',\n",
              " 'multiple_lines',\n",
              " 'internet_service',\n",
              " 'online_security',\n",
              " 'online_backup',\n",
              " 'device_protection',\n",
              " 'tech_support',\n",
              " 'streaming_tv',\n",
              " 'streaming_movies',\n",
              " 'contract',\n",
              " 'paperless_billing',\n",
              " 'payment_method',\n",
              " 'monthly_charges',\n",
              " 'Total_charges']"
            ]
          },
          "metadata": {
            "tags": []
          },
          "execution_count": 8
        }
      ]
    },
    {
      "cell_type": "markdown",
      "metadata": {
        "id": "GF9R0vYsR1IB",
        "colab_type": "text"
      },
      "source": [
        "#Helper functions\n",
        "\n",
        "\n",
        "*   *entropy(target_col)*\n",
        "*   *infoGain(data, split_attribute_name, target_name =\"label\")*\n",
        "        - data\n",
        "        - split_attribute_name, feature whose infoGain is calculated \n",
        "        - target_name =\"label\"\n",
        "        - returns infogain\n",
        "        \n",
        "*   *entropy_before_split()* \n",
        "*   *train_test_split()*\n",
        "\n"
      ]
    },
    {
      "cell_type": "code",
      "metadata": {
        "id": "dvWDu1E6v5nh",
        "colab_type": "code",
        "colab": {}
      },
      "source": [
        "def entropy(target_col):\n",
        "  elements, counts = np.unique(target_col, return_counts= True)\n",
        "\n",
        "  #print(\"Elements {} \\n\" .format(elements))\n",
        "  #print(\"Counts {} \\n\" .format(counts))\n",
        "  \n",
        "  entropy = np.sum(\n",
        "      [\n",
        "       \n",
        "      (-counts[i]/np.sum(counts))*np.log2(counts[i]/np.sum(counts))\n",
        "        for i in range(len(elements))\n",
        "      ]\n",
        "  )\n",
        "  return entropy"
      ],
      "execution_count": 0,
      "outputs": []
    },
    {
      "cell_type": "code",
      "metadata": {
        "id": "M8DjwSJVxtiL",
        "colab_type": "code",
        "outputId": "458d43fb-01c6-4e02-933f-12740fcbaabb",
        "colab": {
          "base_uri": "https://localhost:8080/",
          "height": 34
        }
      },
      "source": [
        "entropy_before_split = entropy(df['label'])\n",
        "print(\"Initial entropy : {} \" .format(entropy_before_split))"
      ],
      "execution_count": 10,
      "outputs": [
        {
          "output_type": "stream",
          "text": [
            "Initial entropy : 0.9709505944546686 \n"
          ],
          "name": "stdout"
        }
      ]
    },
    {
      "cell_type": "code",
      "metadata": {
        "id": "8kCZ9XC3zVEU",
        "colab_type": "code",
        "colab": {}
      },
      "source": [
        "\n",
        "def infoGain(data, split_attribute_name, target_name =\"label\"):\n",
        "  #calculate the entropy of total dataset\n",
        "  total_entropy = entropy(data[target_name])\n",
        "  #print(\"Attribute : {}\\n\" . format(split_attribute_name))\n",
        "\n",
        "\n",
        "  element, counts = np.unique(data[split_attribute_name], return_counts=True)\n",
        "\n",
        "  #print(\"Elements {} \\n\" .format(element))\n",
        "  #print(\"Counts {} \\n\" .format(counts))\n",
        "\n",
        "  weighted_entropy = np.sum(\n",
        "      [\n",
        "       (counts[i]/np.sum(counts)) \n",
        "       * entropy(data.where(data[split_attribute_name] == element[i]).dropna()[target_name])\n",
        "       for i in range(len(element))\n",
        "\n",
        "      ]\n",
        "  )\n",
        "\n",
        "\n",
        "  information_gain = total_entropy - weighted_entropy\n",
        "  #print(\"Info gain :{}\\n\". format(information_gain))\n",
        "\n",
        "  return information_gain"
      ],
      "execution_count": 0,
      "outputs": []
    },
    {
      "cell_type": "code",
      "metadata": {
        "id": "HlwvgqKWazyb",
        "colab_type": "code",
        "outputId": "67e69d23-6bae-4b26-a22a-a050d9287e68",
        "colab": {
          "base_uri": "https://localhost:8080/",
          "height": 34
        }
      },
      "source": [
        "def fix_missing_values():\n",
        "\n",
        "  null_val_cols = []\n",
        "  for col in col_names:\n",
        "    if df[col].isnull().any() == True:\n",
        "      null_val_cols.append(col)\n",
        "\n",
        "  print(\"Column with null values are : {}\".format(null_val_cols))\n",
        "\n",
        "\n",
        "  for col in null_val_cols:\n",
        "    if str(df[col].dtype) == 'object': #for categorical values\n",
        "      df[col].fillna(df[col].mode()[0], inplace = True)\n",
        "    else: #for continuous values\n",
        "      df[col].fillna(df[col].mean(), inplace = True)\n",
        "      #df[col].fillna(method = 'ffill', inplace = True)\n",
        "\n",
        "fix_missing_values()"
      ],
      "execution_count": 12,
      "outputs": [
        {
          "output_type": "stream",
          "text": [
            "Column with null values are : ['paperless_billing', 'monthly_charges', 'Total_charges']\n"
          ],
          "name": "stdout"
        }
      ]
    },
    {
      "cell_type": "code",
      "metadata": {
        "id": "RkCpnfCAhf_Q",
        "colab_type": "code",
        "colab": {
          "base_uri": "https://localhost:8080/",
          "height": 255
        },
        "outputId": "dbca4409-5d5b-4849-8cc3-ec4098413fad"
      },
      "source": [
        "#binarization from scratch\n",
        "#using midpoint to find threshold\n",
        "\n",
        "%%time\n",
        "def binarize_telco_data():\n",
        "  for col in df[['tenure', 'monthly_charges', 'Total_charges']]:\n",
        "  \n",
        "      if str(df[col].dtype) == 'float64' or 'int64':\n",
        "          \n",
        "          \n",
        "          print(\"Working on : {}\" .format(col))\n",
        "          sorted_arr = np.sort(np.unique(pd.to_numeric(df[col], downcast = 'float')))\n",
        "          #print(sorted_arr)\n",
        "\n",
        "\n",
        "          cleanedList = [x for x in sorted_arr if str(x) != 'nan']\n",
        "          #print(\"length of sorted array : {} and cleaned array : {}\".format(len(sorted_arr),len(cleanedList)))\n",
        "          mid_point = []\n",
        "          for i in range(len(cleanedList)-1):\n",
        "              mid_point.append((cleanedList[i]+cleanedList[i+1])/2)\n",
        "        \n",
        "          #print(len(mid_point))\n",
        "          original = np.array(df[col])\n",
        "\n",
        "          arr = np.array(original).reshape(-1,1)\n",
        "          arr = [x for x in arr if str(x) != 'nan']\n",
        "          #print(arr)\n",
        "\n",
        "\n",
        "          print(\"Length of original :{} and without empty :{}\" .format(len(original), len(arr)))\n",
        "\n",
        "          igs = []\n",
        "          count = 0\n",
        "          for i in mid_point:\n",
        "              #print(\"Midpoint :{}\" .format(i))\n",
        "              new_arr = preprocessing.Binarizer(threshold=i).fit_transform(arr)\n",
        "              df[col] = new_arr.reshape(1,-1)[0]\n",
        "\n",
        "              #print(\"\\nPrinting df[col]\")\n",
        "              #print(df[col])\n",
        "              igs.append(infoGain(df,col))\n",
        "              count += 1\n",
        "\n",
        "          #print(\"igs : {}\" .format(igs))\n",
        "        \n",
        "          threshold = mid_point[np.argmax(igs)]\n",
        "          print(\"Threshold is :{}\" .format(threshold))\n",
        "        \n",
        "          arr = np.array(original).reshape(-1,1)\n",
        "          mean = np.mean(arr)\n",
        "          print(\"Mean :{}\" .format(mean))\n",
        "\n",
        "          new_arr = preprocessing.Binarizer(threshold=threshold).fit_transform(arr)\n",
        "          df[col] = new_arr.reshape(1,-1)[0]\n",
        "          #print(df[col])\n",
        "\n",
        "binarize_telco_data()"
      ],
      "execution_count": 13,
      "outputs": [
        {
          "output_type": "stream",
          "text": [
            "Working on : tenure\n",
            "Length of original :10 and without empty :10\n",
            "Threshold is :31.0\n",
            "Mean :21.4\n",
            "Working on : monthly_charges\n",
            "Length of original :10 and without empty :10\n",
            "Threshold is :14.375\n",
            "Mean :18.75\n",
            "Working on : Total_charges\n",
            "Length of original :10 and without empty :10\n",
            "Threshold is :1668.933349609375\n",
            "Mean :1497.1166666666668\n",
            "CPU times: user 296 ms, sys: 3.14 ms, total: 299 ms\n",
            "Wall time: 305 ms\n"
          ],
          "name": "stdout"
        }
      ]
    },
    {
      "cell_type": "code",
      "metadata": {
        "id": "BWpooQDS_kcO",
        "colab_type": "code",
        "outputId": "238c5a97-e44d-43c8-f753-2bc021d64513",
        "colab": {
          "base_uri": "https://localhost:8080/",
          "height": 51
        }
      },
      "source": [
        "def train_test_split(df):\n",
        "  percent = int(0.8 * len(df))\n",
        "  training_data = df.iloc[ : percent].reset_index(drop=True)\n",
        "  testing_data = df.iloc[ percent : ].reset_index(drop=True)\n",
        "\n",
        "  return training_data, testing_data\n",
        "\n",
        "training_data = train_test_split(df)[0]\n",
        "testing_data = train_test_split(df)[1]\n",
        "\n",
        "print(len(training_data))\n",
        "print(len(testing_data))"
      ],
      "execution_count": 14,
      "outputs": [
        {
          "output_type": "stream",
          "text": [
            "8\n",
            "2\n"
          ],
          "name": "stdout"
        }
      ]
    },
    {
      "cell_type": "markdown",
      "metadata": {
        "id": "tybXplg59wyS",
        "colab_type": "text"
      },
      "source": [
        "#Decision tree algorithm\n",
        "\n",
        "Algo given in assignment - > \n",
        "\n",
        "```\n",
        "function Decision_Tree_Learning(examples, attributes, parent_examples) returns a tree\n",
        "\n",
        "if examples is empty then return PLURALITY_VALUE(parent_examples)\n",
        "else if all examples have same classification then return the classification\n",
        "else if attributes is empty then return PLURALITY_VALUE(examples)\n",
        "else\n",
        "\n",
        "  A ← Importance(a, examples)\n",
        "  tree ← a new decision tree with root test A\n",
        "  for each value v of A do\n",
        "    exs ← { e : e ∈ examples and e. A = v }\n",
        "    subtree ← Decision_Tree_Learning(exs, attributes − A, examples)\n",
        "    add a branch to tree with label (A = v ) and subtree subtree\n",
        "  return tree\n",
        "```\n",
        "Methods : \n",
        "\n",
        "*   *PLURALITY_VALUE* returns the maximum occuring element from a column (mode)\n",
        "*   *Decision_Tree_Learning*  (\n",
        "\n",
        "     * *dataset*, input training data, in case of decision stump first and third parameters are same everytime\n",
        "     * *features*, input features on which training will be done\n",
        "     * *original_dataset*, input original training data\n",
        "     * *max_depth*, fix max depth of tree\n",
        "     * *target_col*, column on which prediction will be done later\n",
        "\n",
        "    )\n",
        "    * returns a tree, of type dict\n",
        "\n",
        "* *find_depth_of_tree* returns depth of tree, which is a dict\n",
        "\n",
        "\n",
        "\n",
        "\n",
        "\n"
      ]
    },
    {
      "cell_type": "code",
      "metadata": {
        "id": "lQXA_exJ9qlI",
        "colab_type": "code",
        "colab": {}
      },
      "source": [
        "def Decision_tree_learning(dataset, features, original_dataset,max_depth, target_col = \"label\"):\n",
        "\n",
        "  # --- stopping criteria\n",
        "  # 1. empty dataset\n",
        "  if len(dataset) == 0:\n",
        "    return PLURALITY_VALUE(original_dataset, target_col)\n",
        "\n",
        "  #2. all rows have same target col\n",
        "  elif len(np.unique(dataset[target_col])) <=1:\n",
        "    return np.unique(dataset[target_col])[0]\n",
        "\n",
        "  #3. attribute of feature is empty\n",
        "  elif len(features) == 0:\n",
        "    return PLURALITY_VALUE(dataset, target_col)\n",
        "\n",
        "  #4. depth limit reached\n",
        "  elif max_depth == 0: #ki return korbo?\n",
        "    return PLURALITY_VALUE(original_dataset, target_col)\n",
        "\n",
        "  #5. grow the tree\n",
        "  else :\n",
        "      \n",
        "      \n",
        "      best_feature = random.choice(features)\n",
        "\n",
        "      features = [i for i in features if i != best_feature]\n",
        "\n",
        "      tree = {best_feature:{}}\n",
        "      \n",
        "      \n",
        "      for v in np.unique(dataset[best_feature]):\n",
        "       \n",
        "        sub_data = dataset.where(dataset[best_feature] == v ).dropna()\n",
        "        \n",
        "        sub_tree = Decision_tree_learning(sub_data,features,original_dataset,max_depth -1, target_col)\n",
        "        tree[best_feature][v] = sub_tree\n",
        "\n",
        "      # ------ the following is in case of normal Decision Tree -----\n",
        "      # A = [\n",
        "      #     infoGain(dataset, feature, target_col)\n",
        "      #     for feature in features\n",
        "      # ]\n",
        "      \n",
        "\n",
        "      # best_feature_index = np.argmax(A)\n",
        "      # best_feature = features[best_feature_index]\n",
        "\n",
        "      # features = [i for i in features if i != best_feature]\n",
        "\n",
        "      # tree = {best_feature:{}}\n",
        "      \n",
        "      \n",
        "      # for v in np.unique(dataset[best_feature]):\n",
        "      #   sub_data = dataset.where(dataset[best_feature] == v ).dropna()\n",
        "        \n",
        "      #   sub_tree = Decision_tree_learning(sub_data,features,original_dataset,max_depth -1, target_col)\n",
        "      #PLURALITY_VALUE   tree[best_feature][v] = sub_tree\n",
        "       \n",
        "  \n",
        "\n",
        "  return tree"
      ],
      "execution_count": 0,
      "outputs": []
    },
    {
      "cell_type": "code",
      "metadata": {
        "id": "Q0lR7wzI9rFg",
        "colab_type": "code",
        "colab": {}
      },
      "source": [
        "def PLURALITY_VALUE(data, target_col):\n",
        "  \n",
        "  elements = np.unique(data[target_col])\n",
        "  counts = []\n",
        "  my_list = data[target_col].to_list()\n",
        "  \n",
        "  for i in range(len(elements)):\n",
        "    counts.append(my_list.count(elements[i]))\n",
        "\n",
        "  max_index = counts.index(max(counts))\n",
        "  value = elements[max_index]\n",
        "\n",
        "  return value\n"
      ],
      "execution_count": 0,
      "outputs": []
    },
    {
      "cell_type": "code",
      "metadata": {
        "id": "vi3unX78Uqtd",
        "colab_type": "code",
        "colab": {}
      },
      "source": [
        "def find_depth_of_tree(tree):\n",
        "  str_tree = str(tree)\n",
        "  c = 0\n",
        "  for i in str_tree:\n",
        "    if i == \"{\":\n",
        "       c += 1\n",
        "  return c-1"
      ],
      "execution_count": 0,
      "outputs": []
    },
    {
      "cell_type": "code",
      "metadata": {
        "id": "Ji0GUNRJGrrY",
        "colab_type": "code",
        "outputId": "3461ba17-ca71-4e13-a634-5201c5c526cd",
        "colab": {
          "base_uri": "https://localhost:8080/",
          "height": 34
        }
      },
      "source": [
        "#testing Decision_tree_learning()\n",
        "#PLURALITY_VALUE(df,\"label\")\n",
        "Decision_tree_learning(df,col_names, df,1)\n"
      ],
      "execution_count": 18,
      "outputs": [
        {
          "output_type": "execute_result",
          "data": {
            "text/plain": [
              "{'Total_charges': {0.0: 0, 1.0: 0}}"
            ]
          },
          "metadata": {
            "tags": []
          },
          "execution_count": 18
        }
      ]
    },
    {
      "cell_type": "markdown",
      "metadata": {
        "id": "oyCQj04ZSyCS",
        "colab_type": "text"
      },
      "source": [
        "#Adaboost implementation\n",
        "\n",
        "\n",
        "\n",
        "```\n",
        "function AdaBoost(examples, L_weak, K) returns a weighted majority hypothesis\n",
        "inputs: examples, set of N labeled examples (x1 , y1 ), ... , (x_n , y_n )\n",
        "        L_weak, a learning algorithm\n",
        "        K, the number of hypotheses in the ensemble\n",
        "\n",
        "local variables: w, a vector of N example weights, initially 1/N\n",
        "                 h, a vector of K hypotheses\n",
        "                 z, a vector of K hypothesis weights\n",
        "\n",
        "for k = 1 to K do\n",
        "  data ← Resample(examples, w)\n",
        "  h[k] ← L_weak(data)\n",
        "  error ← 0\n",
        "  for j = 1 to N do\n",
        "    if h[k](x_j) ≠ y_j then error ← error + w[j]\n",
        "  if error > .5 then continue\n",
        "  for j = 1 to N do\n",
        "    if h[k](x_j) = y_j then w[j] ← w[j] * error ⁄ (1 − error)\n",
        "  w ← Normalize(w)\n",
        "\n",
        "  Z[k] ← log[(1-error)/error]\n",
        "\n",
        "return Weighted_Majority(h, z)\n",
        "```\n",
        "Note : \n",
        "*   decision stumps (h) calculate hobe resampled data er upore\n",
        "*   weight calculate hobe original data er upore\n",
        "\n",
        "Methods:\n",
        "\n",
        "* *predict (query, tree)*\n",
        "        * query - one row of dataset\n",
        "        * tree, of dict type\n",
        "        * returns prediction from the tree\n",
        "\n",
        "* *normalize* \n",
        "    \n",
        "      * input array to be normalized\n",
        "      * returns a normalized array whose sum of elements == 1\n",
        "\n",
        "* *Adaboost (original_data K, features, target_col = \"label\")*\n",
        "      * original_data \n",
        "      * K = # of stumps\n",
        "      * features \n",
        "      * target_col = \"label\"\n",
        "      * returns h,z (array of stumps, sampled weights of stumps)\n",
        "\n",
        "* *adaboostPredict(data,h,z)*\n",
        "      * data, testing data\n",
        "      * h , array of stumps\n",
        "      * z , array of sampled weights of stumps\n",
        "      * returns array of prediction\n",
        "\n",
        "* *adaboostAccuracy (pred,data,target_col=\"label\")*\n",
        "      * pred , array of prediction\n",
        "      * data ,testing data\n",
        "      * target_col=\"label\"\n",
        "      * returns precision, recall, f1_score, accuracy\n",
        "\n",
        "\n",
        "\n",
        "\n"
      ]
    },
    {
      "cell_type": "code",
      "metadata": {
        "id": "ESAc1j6jsgWj",
        "colab_type": "code",
        "colab": {}
      },
      "source": [
        "def predict(query, tree):\n",
        "  \n",
        "  for key in query.keys():   \n",
        "    if key in list(tree.keys())[0]:\n",
        "      pred = tree[key][query[key]]\n",
        "      \n",
        "  return pred"
      ],
      "execution_count": 0,
      "outputs": []
    },
    {
      "cell_type": "code",
      "metadata": {
        "id": "d86NZhGp9sNj",
        "colab_type": "code",
        "colab": {}
      },
      "source": [
        "def normalize(arr):\n",
        "\n",
        "  total = sum(arr)+ EPSILON\n",
        "  for i in range(len(arr)):\n",
        "     arr[i] = (float(arr[i])/float(total))\n",
        "      \n",
        "\n",
        "  if(round(sum(arr),10) != float(1)): print(\"Error in normalizing\")\n",
        "  \n",
        "  return arr"
      ],
      "execution_count": 0,
      "outputs": []
    },
    {
      "cell_type": "code",
      "metadata": {
        "id": "f4QoIKdj9rqq",
        "colab_type": "code",
        "colab": {}
      },
      "source": [
        "def Adaboost(original_data, K, features, target_col = \"label\"):\n",
        "  w = []\n",
        "  h = []\n",
        "  z = []\n",
        "\n",
        "  size= len(original_data) #original_data.shape[0]\n",
        "  w = [1/size for i in range(size)]\n",
        "  \n",
        " \n",
        "  for k in range(0,K):\n",
        "    data = original_data.copy()  #data = copy of original dataframe\n",
        "    sampled_data = data.sample(frac = 1,weights = w, replace = True)\n",
        "    #print(sampled_data)\n",
        "    h.append(Decision_tree_learning(data, features, original_data,1))\n",
        "    error = EPSILON\n",
        "\n",
        "    \n",
        "    for j in range(size):\n",
        "\n",
        "      query = dict(original_data.iloc[j]) \n",
        "      query = {i:query[i] for i in query if i != target_col} #dropping the target col from dict\n",
        "      if predict(query,h[k]) != original_data.iloc[j][target_col]:\n",
        "        error += w[j]\n",
        "      \n",
        "      if error > 0.5: continue\n",
        "\n",
        "    if error == 1: print(\"Error at :{}\" .format(k))\n",
        "    if error == 0: print(\"Error = 0 at :{}\" .format(k))\n",
        "    \n",
        "    for j in range(size):\n",
        "\n",
        "      query = dict(original_data.iloc[j]) \n",
        "      query = {i:query[i] for i in query if i != target_col} #dropping the target col from dict\n",
        "      if predict(query,h[k]) != original_data.iloc[j][target_col]:\n",
        "        w[j] = w[j] * (error/(1-error))\n",
        "\n",
        "      \n",
        "    \n",
        "    w = normalize(w)\n",
        "    \n",
        "\n",
        "    z.append( np.log((1-error)/error)  )\n",
        "  print(\"\\nprinting h : {}\" .format(h))\n",
        "  print(\"printing z :{}\\n\" .format(z))\n",
        "  \n",
        "  return h,z\n"
      ],
      "execution_count": 0,
      "outputs": []
    },
    {
      "cell_type": "code",
      "metadata": {
        "id": "wR1Ptg-1jHpV",
        "colab_type": "code",
        "colab": {}
      },
      "source": [
        "def adaboostPredict(data,h,z):\n",
        "  \n",
        "  pred_final = []\n",
        "  for i in range(len(data)): #for each row\n",
        "      pred_label = []\n",
        "      query =  dict(data.iloc[i, :-1] )\n",
        "      j = 0\n",
        "      for stump in h: #for each decision tree\n",
        "        \n",
        "        pred = predict(query, stump)\n",
        "        if(pred == 0): pred = -1 * z[j]\n",
        "        else: pred = pred * z[j]\n",
        "        \n",
        "  \n",
        "        pred_label.append(pred)\n",
        "        j+=1\n",
        "      \n",
        "    \n",
        "      pred_final.append(sum(pred_label))\n",
        "\n",
        "  print(pred_final)\n",
        "  return pred_final\n",
        " "
      ],
      "execution_count": 0,
      "outputs": []
    },
    {
      "cell_type": "code",
      "metadata": {
        "id": "1darMBiyuzHr",
        "colab_type": "code",
        "colab": {}
      },
      "source": [
        "def adaboostAccuracy(pred,data,target_col=\"label\"):\n",
        "  \n",
        "  # name = {predicted : actual}\n",
        "  # --- tp = {Yes : Yes}\n",
        "  # --- tn = {No : No}\n",
        "  # --- fp = {Yes : No}\n",
        "  # --- fn = {No : Yes}\n",
        "  \n",
        "  counter, tp,tn,fp,fn = 0,0,0,0,0\n",
        "  len_ = len(data)\n",
        "  for i in range(len_):\n",
        "    \n",
        "    #print(\"actual :{}\\npred :{}\" .format(data[target_col].iloc[i],pred[i]))\n",
        "    if pred[i] >= 1 and data[target_col].iloc[i] == 1:\n",
        "      counter +=1\n",
        "      tp += 1\n",
        "    elif pred[i] < 1 and data[target_col].iloc[i] == 0:\n",
        "      counter +=1\n",
        "      tn  += 1\n",
        "    elif pred[i] >=1  and data[target_col].iloc[i] == 0:\n",
        "      fn += 1\n",
        "    elif pred[i] < 1 and data[target_col].iloc[i] == 1:\n",
        "      fp += 1\n",
        "\n",
        "  #print(counter)\n",
        "\n",
        "  if tp == 0: tp = EPSILON\n",
        "  if tn == 0: tn = EPSILON\n",
        "  if fp == 0: fp = EPSILON\n",
        "  if fn == 0: fn = EPSILON\n",
        "   \n",
        "  precision = (tp/(tp+fp)) * 100\n",
        "  recall = (tp/(tp+fn)) *100\n",
        "  f1_score = 2 * (precision * recall)/(precision+recall) \n",
        "  accuracy = ((tp+tn)/(tp+tn+fp+fn)) * 100\n",
        "\n",
        "  print(\"Precision :{}\\nRecall :{}\\nf1_score :{}\\nAccuracy :{}\\n\" .format(round(precision,5), round(recall,5), round(f1_score,5), round(accuracy,5)))\n",
        "  #print(\"Accuracy :{}%\" .format((counter/len_)*100))\n",
        "  \n",
        "  return round(precision,5), round(recall,5), round(f1_score,5), round(accuracy,5)\n",
        "\n"
      ],
      "execution_count": 0,
      "outputs": []
    },
    {
      "cell_type": "code",
      "metadata": {
        "id": "mO5FJoEatDNX",
        "colab_type": "code",
        "colab": {}
      },
      "source": [
        "#testing function predict()\n",
        "#tree = {'legs': {'False': 'Mammal', 'True': 'Mammal'}}\n",
        "#tree = {'streaming_tv': {'No': 0, 'No internet service': 0, 'Yes': 0}}\n",
        "\n",
        "#query = {'toothed' :'True','breathes' :'True', 'legs':'True' }\n",
        "#query = {'Gender': 'Female', 'seniority': 0, 'partner': 'No', 'dependents': 'No', 'tenure': 1, 'phoneservice': 'Yes', 'multiple_lines': 'No', 'internet_service': 'No', 'online_security': 'No internet service', 'online_backup': 'No internet service', 'device_protection': 'No internet service', 'tech_support': 'No internet service', 'streaming_tv': 'No internet service', 'streaming_movies': 'No internet service', 'contract': 'One year', 'paperless_billing': 'No', 'payment_method': 'Mailed check', 'monthly_charges': 0.0, 'Total_charges': 1.0}\n",
        "\n",
        "#predict(query, tree)"
      ],
      "execution_count": 0,
      "outputs": []
    },
    {
      "cell_type": "code",
      "metadata": {
        "id": "rX5B4wFB9scb",
        "colab_type": "code",
        "colab": {}
      },
      "source": [
        "#testing function normalize()\n",
        "#w = [0.16641331257605005, 0.16641331257605005, 0.0003800311359249882, 0.16641331257605005, 0.16641331257605005, 0.16641331257605005, 0.0003800311359249882, 0.0003800311359249882, 0.16641331257605005, 0.0003800311359249882]\n",
        "\n",
        "#normalize(w)"
      ],
      "execution_count": 0,
      "outputs": []
    },
    {
      "cell_type": "markdown",
      "metadata": {
        "id": "yHbOPdjgC2UK",
        "colab_type": "text"
      },
      "source": [
        "#Driver functions"
      ]
    },
    {
      "cell_type": "code",
      "metadata": {
        "id": "maVxP43E9r88",
        "colab_type": "code",
        "colab": {}
      },
      "source": [
        "#after loading and preprocessing data \n",
        "def main():\n",
        "  booster = [5,10,15,20]\n",
        "\n",
        "  precision_, recall_, f1_score_, accuracy_ = [],[],[],[]\n",
        "  #for i in range(10): #run adaboost 10 times\n",
        "  for j in booster:\n",
        "    \n",
        "      print(\"\\nRunning Adaboost for  k = {}\\n\" .format(j))\n",
        "      h,z = Adaboost(df,j, col_names)\n",
        "\n",
        "      pred_ = adaboostPredict(testing_data, h,z)\n",
        "      pres,rcall,f1,acc = adaboostAccuracy(pred_, testing_data)\n",
        "    \n",
        "      precision_.append(pres)\n",
        "      recall_.append(rcall)\n",
        "      f1_score_.append(f1)\n",
        "      accuracy_.append(acc)\n",
        "\n",
        "  print(\"Precision :{}\\nRecall :{}\\nf1_score :{}\\nAccuracy :{}\\n\" .format(np.unique(precision_), np.unique(recall_),np.unique(f1_score_),np.unique(accuracy_)))\n",
        "  "
      ],
      "execution_count": 0,
      "outputs": []
    },
    {
      "cell_type": "code",
      "metadata": {
        "id": "4ur4SHE94KnP",
        "colab_type": "code",
        "outputId": "cf885868-2385-419f-dd4e-cfa5c9db0290",
        "colab": {
          "base_uri": "https://localhost:8080/",
          "height": 1000
        }
      },
      "source": [
        "from time import time \n",
        "\n",
        "if __name__ == \"__main__\":\n",
        "    start_time = time()\n",
        "    main()\n",
        "    time_taken = (time() - start_time)/60.0\n",
        "    print('Runtime: {} minutes' .format(time_taken))"
      ],
      "execution_count": 27,
      "outputs": [
        {
          "output_type": "stream",
          "text": [
            "\n",
            "Running Adaboost for  k = 5\n",
            "\n",
            "\n",
            "printing h : [{'Total_charges': {0.0: 0, 1.0: 0}}, {'Gender': {'Female': 0, 'Male': 0}}, {'tenure': {0: 0, 1: 0.0}}, {'tenure': {0: 0, 1: 0.0}}, {'streaming_movies': {'No': 0, 'Yes': 1.0}}]\n",
            "printing z :[0.40546510810774755, 0.8109302162156089, 1.621860432430939, 3.2437208648598124, 7.181349839990277]\n",
            "\n",
            "[1.0993732183761695, -13.263326461604386]\n",
            "Precision :100.0\n",
            "Recall :100.0\n",
            "f1_score :100.0\n",
            "Accuracy :100.0\n",
            "\n",
            "\n",
            "Running Adaboost for  k = 10\n",
            "\n",
            "\n",
            "printing h : [{'online_security': {'No': 0, 'Yes': 0}}, {'streaming_movies': {'No': 0, 'Yes': 1.0}}, {'streaming_tv': {'No': 0, 'Yes': 0}}, {'Total_charges': {0.0: 0, 1.0: 0}}, {'dependents': {'No': 0, 'Yes': 0.0}}, {'tenure': {0: 0, 1: 0.0}}, {'payment_method': {'Bank transfer (automatic)': 0.0, 'Credit card (automatic)': 0.0, 'Electronic check': 0, 'Mailed check': 0}}, {'tech_support': {'No': 0, 'Yes': 0}}, {'contract': {'Month-to-month': 0, 'One year': 0.0}}, {'monthly_charges': {0.0: 0, 1.0: 0}}]\n",
            "printing z :[0.40546510810774755, 1.7047480922374523, 1.3370233121120785, 2.6740466242230894, 5.348093248426595, 10.696186492455503, 21.392177759062058, 29.93360358527714, 29.933606208922495, 29.933606208922495]\n",
            "\n",
            "[-129.94906045527176, -133.35855663974667]\n",
            "Precision :0.0\n",
            "Recall :50.0\n",
            "f1_score :0.0\n",
            "Accuracy :50.0\n",
            "\n",
            "\n",
            "Running Adaboost for  k = 15\n",
            "\n",
            "\n",
            "printing h : [{'online_backup': {'No': 0, 'Yes': 0}}, {'internet_service': {'DSL': 0, 'Fiber optic': 0}}, {'contract': {'Month-to-month': 0, 'One year': 0.0}}, {'phoneservice': {'No': 0.0, 'Yes': 0}}, {'device_protection': {'No': 0, 'Yes': 0}}, {'Gender': {'Female': 0, 'Male': 0}}, {'paperless_billing': {'No': 0, 'Yes': 0}}, {'Gender': {'Female': 0, 'Male': 0}}, {'online_security': {'No': 0, 'Yes': 0}}, {'paperless_billing': {'No': 0, 'Yes': 0}}, {'tenure': {0: 0, 1: 0.0}}, {'dependents': {'No': 0, 'Yes': 0.0}}, {'monthly_charges': {0.0: 0, 1.0: 0}}, {'multiple_lines': {'No': 0, 'No phone service': 0.0, 'Yes': 0}}, {'device_protection': {'No': 0, 'Yes': 0}}]\n",
            "printing z :[0.40546510810774755, 0.8109302162156089, 1.621860432430939, 3.2437208648598124, 6.487441729656492, 12.974883416234677, 25.931323960069303, 29.933606208628508, 29.933606208922495, 29.933606208922495, 29.933606208922495, 29.933606208922495, 29.933606208922495, 29.933606208922495, 29.933606208922495]\n",
            "\n",
            "[-290.94447539866053, -290.94447539866053]\n",
            "Precision :0.0\n",
            "Recall :50.0\n",
            "f1_score :0.0\n",
            "Accuracy :50.0\n",
            "\n",
            "\n",
            "Running Adaboost for  k = 20\n",
            "\n",
            "\n",
            "printing h : [{'streaming_tv': {'No': 0, 'Yes': 0}}, {'device_protection': {'No': 0, 'Yes': 0}}, {'internet_service': {'DSL': 0, 'Fiber optic': 0}}, {'internet_service': {'DSL': 0, 'Fiber optic': 0}}, {'phoneservice': {'No': 0.0, 'Yes': 0}}, {'seniority': {0: 0}}, {'phoneservice': {'No': 0.0, 'Yes': 0}}, {'Gender': {'Female': 0, 'Male': 0}}, {'online_backup': {'No': 0, 'Yes': 0}}, {'online_backup': {'No': 0, 'Yes': 0}}, {'Total_charges': {0.0: 0, 1.0: 0}}, {'Gender': {'Female': 0, 'Male': 0}}, {'streaming_movies': {'No': 0, 'Yes': 1.0}}, {'seniority': {0: 0}}, {'seniority': {0: 0}}, {'streaming_movies': {'No': 0, 'Yes': 1.0}}, {'monthly_charges': {0.0: 0, 1.0: 0}}, {'contract': {'Month-to-month': 0, 'One year': 0.0}}, {'seniority': {0: 0}}, {'seniority': {0: 0}}]\n",
            "printing z :[0.40546510810774755, 0.8109302162156089, 1.621860432430939, 3.2437208648598124, 6.487441729656492, 12.974883416234677, 25.931323960069303, 29.933606208628508, 29.933606208922495, 29.933606208922495, 29.933606208922495, 29.933606208922495, 29.933606208922495, 29.933606208922495, 29.933606208922495, 29.933606208922495, 29.933606208922495, 29.933606208922495, 29.933606208922495, 29.933606208922495]\n",
            "\n",
            "[-320.878081607583, -440.6125064432729]\n",
            "Precision :0.0\n",
            "Recall :50.0\n",
            "f1_score :0.0\n",
            "Accuracy :50.0\n",
            "\n",
            "Precision :[  0. 100.]\n",
            "Recall :[ 50. 100.]\n",
            "f1_score :[  0. 100.]\n",
            "Accuracy :[ 50. 100.]\n",
            "\n",
            "Runtime: 0.023664557933807374 minutes\n"
          ],
          "name": "stdout"
        }
      ]
    }
  ]
}